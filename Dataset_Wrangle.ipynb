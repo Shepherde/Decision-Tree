{
 "cells": [
  {
   "cell_type": "markdown",
   "metadata": {},
   "source": [
    "# Dataset preprocessing"
   ]
  },
  {
   "cell_type": "code",
   "execution_count": 11,
   "metadata": {},
   "outputs": [
    {
     "name": "stdout",
     "output_type": "stream",
     "text": [
      "(108, 8)\n",
      "   Sun Hardiness Size Climate Weather  Type Experience Pack\n",
      "0    1       5-9    1     2-3     1-2  f-h           1   A1\n",
      "1    1       5-9  2-3     2-3     1-2   f-h          1   A2\n",
      "2    2       5-9    1     2-3     1-2  f-h           1   A3\n",
      "3    2       5-9  2-3     2-3     1-2   f-h          1   A4\n",
      "4    3       5-9    1     2-3     1-2  f-h           1   A5\n"
     ]
    }
   ],
   "source": [
    "# Import the already somewhat cleaned dataset\n",
    "import pandas as pd\n",
    "df = pd.read_csv('Matching-Excel.csv')\n",
    "\n",
    "# Size, shape, and sample of data\n",
    "\n",
    "print(df.shape)\n",
    "print(df.head())"
   ]
  },
  {
   "cell_type": "code",
   "execution_count": 12,
   "metadata": {},
   "outputs": [
    {
     "name": "stdout",
     "output_type": "stream",
     "text": [
      "Sun:  [1 2 3]\n",
      "Hardiness:  ['5-9' '10-11']\n",
      "Size:  ['1' '2-3']\n",
      "Climate:  ['2-3' '1' '3-4']\n",
      "Weather:  ['1-2' '3' '4']\n",
      "Type:  ['2-3' '1' '3-4']\n",
      "Experience:  ['1' '2-3']\n",
      "Pack:  ['A1' 'A2' 'A3' 'A4' 'A5' 'A6' 'A1w3' 'A2w3' 'A3w3' 'A4w3' 'A5w3' 'A6w3'\n",
      " 'P1' 'P2' 'P3' 'P4' 'P5' 'P6' 'P1w3' 'P2w3' 'P3w3' 'P4w3' 'P5w3' 'P6w3'\n",
      " 'P1w4' 'P2w4' 'P3w4' 'P4w4' 'P5w4' 'P6w4' 'AA1w1' 'AA2w1' 'AA3w1' 'AA5w1'\n",
      " 'AA6w1' 'AA1w3' 'AA2w3' 'AA3w3' 'AA4w3' 'AA5w3' 'AA6w3' 'AP1w4' 'AP2w4'\n",
      " 'AP3w4' 'AP4w4' 'AP5w4' 'AP6w4' 'AP2w1' 'AP3w1' 'AP4w1' 'AP5w1' 'AP6w1'\n",
      " 'AP1w3' 'AP2w3' 'AP3w3' 'AP4w3' 'AP5w3' 'AP6w3' 'TA1w1' 'TA2w1' 'TA3w1'\n",
      " 'TA4w1' 'TA5w1' 'TA6w1' 'TA1w3' 'TA2w3' 'TA3w3' 'TA4w3' 'TA5w3' 'TA6w3'\n",
      " 'TP1w1' 'TP2w1' 'TP3w1' 'TP4w1' 'TP5w1' 'TP6w1' 'TP1w3' 'TP2w3' 'TP3w3'\n",
      " 'TP4w3' 'TP5w3' 'TP6w3' 'FFAA1' 'FFAA2' 'FFAA3' 'FFAA4' 'FFAA5' 'FFAA6'\n",
      " 'FFAA1w3' 'FFAA2w3' 'FFAA3w3' 'FFAA4w3' 'FFAA5w3' 'FFAA6w3' 'FFAP1'\n",
      " 'FFAP2' 'FFAP3' 'FFAP4' 'FFAP5' 'FFAP6' 'FFAP1w3' 'FFAP2w3' 'FFAP3w3'\n",
      " 'FFAP4w3' 'FFAP5w3' 'FFAP6w3']\n"
     ]
    }
   ],
   "source": [
    "# LOOKING AT UNIQUE VALUES\n",
    "\n",
    "print('Sun: ', df['Sun'].unique())\n",
    "print('Hardiness: ', df['Hardiness'].unique())\n",
    "print('Size: ', df['Size'].unique())\n",
    "print('Climate: ', df['Climate'].unique())\n",
    "print('Weather: ', df['Weather'].unique())\n",
    "print('Type: ', df['Climate'].unique())\n",
    "print('Experience: ', df['Experience'].unique())\n",
    "print('Pack: ', df['Pack'].unique())"
   ]
  },
  {
   "cell_type": "code",
   "execution_count": 13,
   "metadata": {},
   "outputs": [],
   "source": [
    "# Label Encoding if needed"
   ]
  },
  {
   "cell_type": "markdown",
   "metadata": {},
   "source": [
    "X = data, Y = target"
   ]
  },
  {
   "cell_type": "code",
   "execution_count": 14,
   "metadata": {},
   "outputs": [
    {
     "data": {
      "text/html": [
       "<div>\n",
       "<style scoped>\n",
       "    .dataframe tbody tr th:only-of-type {\n",
       "        vertical-align: middle;\n",
       "    }\n",
       "\n",
       "    .dataframe tbody tr th {\n",
       "        vertical-align: top;\n",
       "    }\n",
       "\n",
       "    .dataframe thead th {\n",
       "        text-align: right;\n",
       "    }\n",
       "</style>\n",
       "<table border=\"1\" class=\"dataframe\">\n",
       "  <thead>\n",
       "    <tr style=\"text-align: right;\">\n",
       "      <th></th>\n",
       "      <th>Sun</th>\n",
       "      <th>Hardiness</th>\n",
       "      <th>Size</th>\n",
       "      <th>Climate</th>\n",
       "      <th>Weather</th>\n",
       "      <th>Type</th>\n",
       "      <th>Experience</th>\n",
       "      <th>Pack</th>\n",
       "    </tr>\n",
       "  </thead>\n",
       "  <tbody>\n",
       "    <tr>\n",
       "      <th>0</th>\n",
       "      <td>1</td>\n",
       "      <td>5-9</td>\n",
       "      <td>1</td>\n",
       "      <td>2-3</td>\n",
       "      <td>1-2</td>\n",
       "      <td>f-h</td>\n",
       "      <td>1</td>\n",
       "      <td>A1</td>\n",
       "    </tr>\n",
       "    <tr>\n",
       "      <th>1</th>\n",
       "      <td>1</td>\n",
       "      <td>5-9</td>\n",
       "      <td>2-3</td>\n",
       "      <td>2-3</td>\n",
       "      <td>1-2</td>\n",
       "      <td>f-h</td>\n",
       "      <td>1</td>\n",
       "      <td>A2</td>\n",
       "    </tr>\n",
       "    <tr>\n",
       "      <th>2</th>\n",
       "      <td>2</td>\n",
       "      <td>5-9</td>\n",
       "      <td>1</td>\n",
       "      <td>2-3</td>\n",
       "      <td>1-2</td>\n",
       "      <td>f-h</td>\n",
       "      <td>1</td>\n",
       "      <td>A3</td>\n",
       "    </tr>\n",
       "  </tbody>\n",
       "</table>\n",
       "</div>"
      ],
      "text/plain": [
       "   Sun Hardiness Size Climate Weather  Type Experience Pack\n",
       "0    1       5-9    1     2-3     1-2  f-h           1   A1\n",
       "1    1       5-9  2-3     2-3     1-2   f-h          1   A2\n",
       "2    2       5-9    1     2-3     1-2  f-h           1   A3"
      ]
     },
     "execution_count": 14,
     "metadata": {},
     "output_type": "execute_result"
    }
   ],
   "source": [
    "X = df.loc[[0, 1, 2], :]\n",
    "X"
   ]
  },
  {
   "cell_type": "code",
   "execution_count": null,
   "metadata": {},
   "outputs": [],
   "source": []
  }
 ],
 "metadata": {
  "kernelspec": {
   "display_name": "Python 3",
   "language": "python",
   "name": "python3"
  },
  "language_info": {
   "codemirror_mode": {
    "name": "ipython",
    "version": 3
   },
   "file_extension": ".py",
   "mimetype": "text/x-python",
   "name": "python",
   "nbconvert_exporter": "python",
   "pygments_lexer": "ipython3",
   "version": "3.8.5"
  }
 },
 "nbformat": 4,
 "nbformat_minor": 4
}
